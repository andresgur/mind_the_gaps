{
 "cells": [
  {
   "cell_type": "markdown",
   "id": "6339b291",
   "metadata": {},
   "source": [
    "# This notebook helps explain the issue with the celerite normalization"
   ]
  },
  {
   "cell_type": "code",
   "execution_count": 1,
   "id": "875bbda9",
   "metadata": {},
   "outputs": [],
   "source": [
    "import celerite\n",
    "import corner\n",
    "import emcee\n",
    "from stingray import Lightcurve\n",
    "from celerite.terms import Matern32Term, JitterTerm\n",
    "from mind_the_gaps.models.celerite_models import DampedRandomWalk as DRW, Lorentzian as Matern_cel\n",
    "from mind_the_gaps.models.psd_models import BendingPowerlaw as BPL, SHO, Lorentzian as Lor, Matern32, Jitter\n",
    "import astropy.units as u\n",
    "from mind_the_gaps.simulator import *\n",
    "import numpy as np\n",
    "import os\n",
    "from scipy.optimize import minimize\n",
    "import matplotlib.pyplot as plt\n",
    "from multiprocessing import Pool\n",
    "\n",
    "def neg_log_like(params, y, gp):\n",
    "    gp.set_parameter_vector(params)\n",
    "    return -gp.log_likelihood(y)\n",
    "\n",
    "def log_probability(params):\n",
    "    \"\"\"https://celerite.readthedocs.io/en/stable/tutorials/modeling/\"\"\"\n",
    "    gp.set_parameter_vector(params)\n",
    "\n",
    "    lp = gp.log_prior()\n",
    "    if not np.isfinite(lp):\n",
    "        return -np.inf\n",
    "    return lp + gp.log_likelihood(y)\n",
    "\n",
    "cores = 12"
   ]
  },
  {
   "cell_type": "markdown",
   "id": "0e92faea",
   "metadata": {},
   "source": [
    "# Generate lightcurve with given variance and a DRW"
   ]
  },
  {
   "cell_type": "code",
   "execution_count": null,
   "id": "d1633e10",
   "metadata": {},
   "outputs": [],
   "source": [
    "np.random.seed(42)\n",
    "Npoints = 1000\n",
    "times = np.linspace(0, 1000, Npoints) * 3600 * 24 # seconds\n",
    "#rates = np.random.normal(100, 5, size=Npoints)\n",
    "#mean = np.mean(rates)\n",
    "#std = np.std(rates)\n",
    "#errors = rates * 0.01\n",
    "exposures = 1000 * np.ones(Npoints) # seconds\n",
    "#tmin = 180955365.712 # times for P13\n",
    "#tend = 265962895.878\n",
    "duration = times[-1] + 1.5 * exposures[-1] - (times[0] - exposures[0])\n",
    "print(\"Lightcurve duration: %.2f d\" % (duration / 3600 /24))\n",
    "sim_dt = 1 / 10 * np.min(exposures)\n",
    "\n",
    "logS0 = 0\n",
    "S0 = np.exp(logS0)\n",
    "logw0 = -13\n",
    "w0 = np.exp(logw0)\n",
    "break_timescale = 1 / (w0 / 2 / np.pi) / 3600 / 24 \n",
    "print(\"Break timescale: %.2f d\" % break_timescale)\n",
    "psd_model = BPL(S_0=S0, w_0=np.exp(-13))\n",
    "minimum_frequency = 1 / (duration)\n",
    "maximum_frequency = 1 / (sim_dt)\n",
    "fnyq = maximum_frequency\n",
    "\n",
    "extension_factor = 10\n",
    "df_int = 1 / (duration * extension_factor)\n",
    "int_freq = np.arange(minimum_frequency, fnyq, df_int) # frequencies over which to integrate\n",
    "w_int = int_freq * 2 * np.pi\n",
    "normalization_factor =  2 / np.sqrt(2 * np.pi) # this factor accounts for the fact that we only integrate positive frequencies and the 1 / sqrt(2pi) from the Fourier transform\n",
    "var = np.sum(psd_model(w_int)) * df_int * 2 * np.pi * normalization_factor\n",
    "\n",
    "\n",
    "lc = simulate_lightcurve(times, psd_model,\n",
    "                        dt=sim_dt, \n",
    "                         extension_factor=extension_factor)\n",
    "\n",
    "segment = cut_random_segment(lc, duration)\n",
    "plt.plot(segment.time, segment.countrate)\n",
    "plt.gca().ticklabel_format(useOffset=False)\n",
    "print(\"Model variance: %.5f\" % S0)\n",
    "print(\"Integrated variance: %.5f\" % var)\n",
    "print(\"LC variance: %.5f\" % np.var(lc.countrate))\n",
    "print(\"Sample Variance: %.5f\" % np.var(segment.countrate))\n",
    "\n",
    "plt.figure()\n",
    "plt.plot(1 / int_freq / 3600 / 24, psd_model(w_int))\n",
    "plt.axvline(1 / minimum_frequency/ 3600 / 24, color=\"green\", alpha=0.5, ls=\"--\")\n",
    "plt.axvline(1 / maximum_frequency / 3600 / 24, alpha=0.5, color=\"blue\")\n",
    "plt.xscale(\"log\")\n",
    "plt.yscale(\"log\")\n",
    "plt.xlabel(\"Period (d)\")"
   ]
  },
  {
   "cell_type": "markdown",
   "id": "12d13088",
   "metadata": {},
   "source": [
    "# Fit it with celerite"
   ]
  },
  {
   "cell_type": "code",
   "execution_count": null,
   "id": "f3ca5026",
   "metadata": {},
   "outputs": [],
   "source": [
    "y = lc.countrate\n",
    "time = lc.time\n",
    "Q = 1/ 2\n",
    "w0 = 2 * np.pi / (30 * u.d).to(u.s).value\n",
    "S0 = np.var(y)\n",
    "S_0_N_bounds = (-20, 15)\n",
    "log_omega0_N_bounds = (-25, -5)  # 0 to 200 in period (days)\n",
    "nwalkers = 12\n",
    "bounds = dict(log_S0=S_0_N_bounds, log_omega0=log_omega0_N_bounds)\n",
    "kernel = DRW(log_S0=np.log(S0), log_omega0=np.log(w0),\n",
    "                                 bounds=bounds)\n",
    "initial_samples = np.array([np.random.uniform(S_0_N_bounds[0], S_0_N_bounds[1], nwalkers),\n",
    "                           np.random.uniform(log_omega0_N_bounds[0], log_omega0_N_bounds[1], nwalkers)])\n",
    "cols = [\"kernel:log_S0\", \"kernel:log_omega0\"]\n",
    "labels = [r\"log $S_N$\", r\"log $\\omega_N$\"]\n",
    "initial_samples = initial_samples.T"
   ]
  },
  {
   "cell_type": "markdown",
   "id": "344c3c72",
   "metadata": {},
   "source": [
    "fit"
   ]
  },
  {
   "cell_type": "code",
   "execution_count": null,
   "id": "38bd6a53",
   "metadata": {},
   "outputs": [],
   "source": [
    "gp = celerite.GP(kernel, mean=np.mean(y))\n",
    "gp.compute(time)  # You always need to call compute once.\n",
    "initial_params = gp.get_parameter_vector()\n",
    "bounds = gp.get_parameter_bounds()\n",
    "solution = minimize(neg_log_like, \n",
    "                    initial_params, method=\"L-BFGS-B\", bounds=gp.get_parameter_bounds(), args=(y, gp))"
   ]
  },
  {
   "cell_type": "code",
   "execution_count": null,
   "id": "8c273d84",
   "metadata": {},
   "outputs": [],
   "source": [
    "print(gp.parameter_names)\n",
    "print(solution.x)\n",
    "df = 1 / (lc.tseg)\n",
    "fnyq = 1 / (2 * lc.dt)\n",
    "frequencies = np.arange(df, fnyq, df)\n",
    "w = frequencies * 2 * np.pi\n",
    "\n",
    "\n",
    "gp.set_parameter_vector(solution.x)\n",
    "psd = gp.kernel.get_psd(w)\n",
    "plt.plot(frequencies, psd, label=\"Fit model\")\n",
    "plt.yscale(\"log\")\n",
    "plt.xscale(\"log\")\n",
    "\n",
    "gp.set_parameter_vector((logS0, logw0))\n",
    "psd = gp.kernel.get_psd(w)\n",
    "plt.plot(frequencies, psd, label=\"Input model\")\n",
    "plt.legend()\n",
    "print(\"Ratio ampltiudes\")\n",
    "print(np.exp(solution.x)[0] / np.exp(logS0))\n",
    "print(\"Ratio breaks\")\n",
    "print(np.exp(solution.x)[1] / np.exp(logw0))"
   ]
  },
  {
   "cell_type": "markdown",
   "id": "937da991",
   "metadata": {},
   "source": [
    "# Same thing but with a Lorentizan now"
   ]
  },
  {
   "cell_type": "code",
   "execution_count": null,
   "id": "e16cbaad",
   "metadata": {},
   "outputs": [],
   "source": [
    "%matplotlib inline\n",
    "Npoints = 1000\n",
    "times = np.linspace(0, 1000, Npoints) * 3600 * 24 # seconds\n",
    "exposures = 1000 * np.ones(Npoints) # seconds\n",
    "duration = times[-1] + 1.5 * exposures[-1] - (times[0] - exposures[0])\n",
    "print(\"Lightcurve duration: %.2f d\" % (duration / 3600 /24))\n",
    "sim_dt = 1 / 10 * np.min(exposures)\n",
    "\n",
    "logS0 = 0\n",
    "S0 = np.exp(logS0)\n",
    "logw0 = -13\n",
    "w0 = np.exp(logw0)\n",
    "logQ = np.log(10)\n",
    "Q = np.exp(logQ)\n",
    "break_timescale = 1 / (w0 / 2 / np.pi) / 3600 / 24 \n",
    "print(\"Period: %.2f d\" % break_timescale)\n",
    "print(\"log_Q: %.3f\" % (logQ))\n",
    "psd_model = Lor(S_0=S0, w_0=w0, Q=Q)\n",
    "minimum_frequency = 1 / (duration)\n",
    "maximum_frequency = 1 / (sim_dt)\n",
    "fnyq = maximum_frequency\n",
    "\n",
    "extension_factor = 10\n",
    "df_int = 1 / (duration * extension_factor)\n",
    "int_freq = np.arange(minimum_frequency, fnyq, df_int) # frequencies over which to integrate\n",
    "w_int = int_freq * 2 * np.pi\n",
    "normalization_factor =  2 / np.sqrt(2 * np.pi) # this factor accounts for the fact that we only integrate positive frequencies and the 1 / sqrt(2pi) from the Fourier transform\n",
    "var = np.sum(psd_model(w_int)) * df_int * 2 * np.pi * normalization_factor\n",
    "\n",
    "lc = simulate_lightcurve(times, psd_model,\n",
    "                        dt=sim_dt, \n",
    "                         extension_factor=extension_factor)\n",
    "\n",
    "segment = cut_random_segment(lc, duration)\n",
    "plt.plot(segment.time, segment.countrate)\n",
    "plt.gca().ticklabel_format(useOffset=False)\n",
    "print(\"Model variance: %.5f\" % S0)\n",
    "print(\"Integrated variance: %.5f\" % var)\n",
    "print(\"LC variance: %.5f\" % np.var(lc.countrate))\n",
    "print(\"Sample Variance: %.5f\" % np.var(segment.countrate))\n",
    "\n",
    "plt.figure()\n",
    "plt.plot(1 / int_freq / 3600 / 24, psd_model(w_int))\n",
    "plt.axvline(1 / minimum_frequency/ 3600 / 24, color=\"green\", alpha=0.5, ls=\"--\")\n",
    "plt.axvline(1 / maximum_frequency / 3600 / 24, alpha=0.5, color=\"blue\")\n",
    "plt.xscale(\"log\")\n",
    "plt.yscale(\"log\")\n",
    "plt.xlabel(\"Period (d)\")"
   ]
  },
  {
   "cell_type": "markdown",
   "id": "63e1ce7d",
   "metadata": {},
   "source": [
    "# Prepare fit with celerite"
   ]
  },
  {
   "cell_type": "code",
   "execution_count": null,
   "id": "c5b270a7",
   "metadata": {},
   "outputs": [],
   "source": [
    "y = lc.countrate\n",
    "time = lc.time\n",
    "w0 = 2 * np.pi / (30 * u.d).to(u.s).value\n",
    "S0 = np.var(y)\n",
    "S_0_N_bounds = (-20, 15)\n",
    "log_omega0_N_bounds = (-25, -5)  # 0 to 200 in period (days)\n",
    "log_Q_bounds = (np.log(1), np.log(5000))\n",
    "nwalkers = 12\n",
    "bounds = dict(log_S0=S_0_N_bounds, log_omega0=log_omega0_N_bounds, log_Q=log_Q_bounds)\n",
    "kernel = Lorentzian(log_S0=np.log(S0), log_omega0=np.log(w0), log_Q=np.log(200),\n",
    "                                 bounds=bounds)\n",
    "initial_samples = np.array([np.random.uniform(S_0_N_bounds[0], S_0_N_bounds[1], nwalkers),\n",
    "                           np.random.uniform(log_Q_bounds[0], log_Q_bounds[1], nwalkers),\n",
    "                          np.random.uniform(log_omega0_N_bounds[0], log_omega0_N_bounds[1], nwalkers)])\n",
    "cols = [\"kernel:log_S0\", \"kernel:log_omega0\", \"kernel:log_Q\"]\n",
    "labels = [r\"log $S_N$\", r\"log $\\omega_N$\", \"log_Q\"]\n",
    "initial_samples = initial_samples.T"
   ]
  },
  {
   "cell_type": "markdown",
   "id": "9e168ad7",
   "metadata": {},
   "source": [
    "# fit "
   ]
  },
  {
   "cell_type": "code",
   "execution_count": null,
   "id": "ab71c4a3",
   "metadata": {},
   "outputs": [],
   "source": [
    "gp = celerite.GP(kernel, mean=np.mean(y))\n",
    "gp.compute(time)  # You always need to call compute once.\n",
    "initial_params = gp.get_parameter_vector()\n",
    "bounds = gp.get_parameter_bounds()\n",
    "solution = minimize(neg_log_like, \n",
    "                    initial_params, method=\"L-BFGS-B\", bounds=gp.get_parameter_bounds(), args=(y, gp))"
   ]
  },
  {
   "cell_type": "code",
   "execution_count": null,
   "id": "a641f9be",
   "metadata": {},
   "outputs": [],
   "source": [
    "print(gp.get_parameter_names())"
   ]
  },
  {
   "cell_type": "code",
   "execution_count": null,
   "id": "f72db19c",
   "metadata": {},
   "outputs": [],
   "source": [
    "%matplotlib qt\n",
    "print(gp.parameter_names)\n",
    "print(solution.x)\n",
    "df = 1 / (lc.tseg)\n",
    "fnyq = 1 / (2 * lc.dt)\n",
    "frequencies = np.arange(df, fnyq, df)\n",
    "w = frequencies * 2 * np.pi\n",
    "\n",
    "\n",
    "gp.set_parameter_vector(solution.x)\n",
    "psd = gp.kernel.get_psd(w)\n",
    "plt.plot(frequencies, psd, label=\"Fit model\")\n",
    "plt.yscale(\"log\")\n",
    "plt.xscale(\"log\")\n",
    "\n",
    "gp.set_parameter_vector((logS0, np.log(Q), logw0))\n",
    "psd = gp.kernel.get_psd(w)\n",
    "plt.plot(frequencies, psd, label=\"Input model\")\n",
    "plt.legend()\n",
    "print(\"Ratio ampltiudes\")\n",
    "print(np.exp(solution.x)[0] / np.exp(logS0))\n",
    "print(\"Ratio periods\")\n",
    "print(np.exp(solution.x)[2] / np.exp(logw0))\n",
    "print(\"Ratio Q\")\n",
    "print(np.exp(solution.x)[1] / Q)"
   ]
  },
  {
   "cell_type": "markdown",
   "id": "c43f9828",
   "metadata": {},
   "source": [
    "# Same with Matern"
   ]
  },
  {
   "cell_type": "code",
   "execution_count": null,
   "id": "c6682acc",
   "metadata": {},
   "outputs": [],
   "source": [
    "Npoints = 1000\n",
    "times = np.linspace(0, 1000, Npoints) * 3600 * 24 # seconds\n",
    "exposures = 1000 * np.ones(Npoints) # seconds\n",
    "duration = times[-1] + 1.5 * exposures[-1] - (times[0] - exposures[0])\n",
    "print(\"Lightcurve duration: %.2f d\" % (duration / 3600 /24))\n",
    "sim_dt = 1 / 10 * np.min(exposures)\n",
    "\n",
    "logS0 = 1\n",
    "sigma = np.exp(logS0)\n",
    "logrho = np.log(32.17 / 20 * 3600 * 24)\n",
    "rho = np.exp(logrho)\n",
    "break_timescale = rho / 3600 / 24 \n",
    "print(\"Period: %.2f d\" % break_timescale)\n",
    "psd_model = Matern32(sigma=sigma, rho=rho)\n",
    "minimum_frequency = 1 / (duration)\n",
    "maximum_frequency = 1 / (sim_dt)\n",
    "fnyq = maximum_frequency\n",
    "\n",
    "extension_factor = 10\n",
    "df_int = 1 / (duration * extension_factor)\n",
    "int_freq = np.arange(minimum_frequency, fnyq, df_int) # frequencies over which to integrate\n",
    "w_int = int_freq * 2 * np.pi\n",
    "normalization_factor =  2 / np.sqrt(2 * np.pi) # this factor accounts for the fact that we only integrate positive frequencies and the 1 / sqrt(2pi) from the Fourier transform\n",
    "var = np.sum(psd_model(w_int)) * df_int * 2 * np.pi * normalization_factor\n",
    "\n",
    "\n",
    "lc = simulate_lightcurve(times, psd_model,\n",
    "                        dt=sim_dt, \n",
    "                         extension_factor=extension_factor)\n",
    "\n",
    "segment = cut_random_segment(lc, duration)\n",
    "plt.plot(segment.time, segment.countrate)\n",
    "plt.gca().ticklabel_format(useOffset=False)\n",
    "print(\"Model variance: %.5f\" % sigma**2)\n",
    "print(\"Integrated variance: %.5f\" % var)\n",
    "print(\"LC variance: %.5f\" % np.var(lc.countrate))\n",
    "print(\"Sample Variance: %.5f\" % np.var(segment.countrate))\n",
    "\n",
    "plt.figure()\n",
    "plt.plot(1 / int_freq / 3600 / 24, psd_model(w_int))\n",
    "plt.axvline(1 / minimum_frequency/ 3600 / 24, color=\"green\", alpha=0.5, ls=\"--\")\n",
    "plt.axvline(1 / maximum_frequency / 3600 / 24, alpha=0.5, color=\"blue\")\n",
    "plt.xscale(\"log\")\n",
    "plt.yscale(\"log\")\n",
    "plt.xlabel(\"Period (d)\")"
   ]
  },
  {
   "cell_type": "markdown",
   "id": "4984e4fa",
   "metadata": {},
   "source": [
    "# Jitter"
   ]
  },
  {
   "cell_type": "code",
   "execution_count": 2,
   "id": "eae112dc",
   "metadata": {},
   "outputs": [
    {
     "name": "stdout",
     "output_type": "stream",
     "text": [
      "Lightcurve duration: 1000.06 d\n",
      "Model variance: 54.59815\n",
      "Integrated variance: 54.59815\n",
      "LC variance: 54.58939\n",
      "Sample Variance: 54.53677\n"
     ]
    },
    {
     "name": "stderr",
     "output_type": "stream",
     "text": [
      "/home/andresgur/anaconda3/lib/python3.9/site-packages/stingray/utils.py:403: UserWarning: SIMON says: Stingray only uses poisson err_dist at the moment. All analysis in the light curve will assume Poisson errors. Sorry for the inconvenience.\n",
      "  warnings.warn(\"SIMON says: {0}\".format(message), **kwargs)\n"
     ]
    },
    {
     "data": {
      "text/plain": [
       "Text(0.5, 0, 'Period (d)')"
      ]
     },
     "execution_count": 2,
     "metadata": {},
     "output_type": "execute_result"
    },
    {
     "data": {
      "image/png": "[encoded data removed]",
      "text/plain": [
       "<Figure size 432x288 with 1 Axes>"
      ]
     },
     "metadata": {
      "needs_background": "light"
     },
     "output_type": "display_data"
    },
    {
     "data": {
      "image/png": "[encoded data removed]",
      "text/plain": [
       "<Figure size 432x288 with 1 Axes>"
      ]
     },
     "metadata": {
      "needs_background": "light"
     },
     "output_type": "display_data"
    }
   ],
   "source": [
    "Npoints = 1000\n",
    "times = np.linspace(0, 1000, Npoints) * 3600 * 24 # seconds\n",
    "exposures = 2000 * np.ones(Npoints) # seconds\n",
    "duration = times[-1] + 1.5 * exposures[-1] - (times[0] - exposures[0])\n",
    "print(\"Lightcurve duration: %.2f d\" % (duration / 3600 /24))\n",
    "sim_dt = 1 / 10 * np.min(exposures)\n",
    "\n",
    "logS0 = 2\n",
    "sigma = np.exp(logS0)\n",
    "psd_model = Jitter(sigma=sigma)\n",
    "minimum_frequency = 1 / (duration)\n",
    "maximum_frequency = 1 / (sim_dt)\n",
    "fnyq = maximum_frequency\n",
    "\n",
    "extension_factor = 2\n",
    "df_int = 1 / (duration * extension_factor)\n",
    "int_freq = np.arange(minimum_frequency, fnyq, df_int) # frequencies over which to integrate\n",
    "\n",
    "w_int = int_freq * 2 * np.pi\n",
    "normalization_factor =  2 / np.sqrt(2 * np.pi) # this factor accounts for the fact that we only integrate positive frequencies and the 1 / sqrt(2pi) from the Fourier transform\n",
    "var = np.sum(psd_model(w_int)) * (df_int * 2 * np.pi) * normalization_factor\n",
    "\n",
    "\n",
    "lc = simulate_lightcurve(times, psd_model,\n",
    "                        dt=sim_dt, \n",
    "                         extension_factor=extension_factor)\n",
    "\n",
    "segment = cut_random_segment(lc, duration)\n",
    "plt.plot(segment.time, segment.countrate)\n",
    "plt.gca().ticklabel_format(useOffset=False)\n",
    "print(\"Model variance: %.5f\" % sigma**2)\n",
    "print(\"Integrated variance: %.5f\" % (var))\n",
    "print(\"LC variance: %.5f\" % np.var(lc.countrate))\n",
    "print(\"Sample Variance: %.5f\" % np.var(segment.countrate))\n",
    "\n",
    "plt.figure()\n",
    "plt.plot(1 / int_freq / 3600 / 24, psd_model(w_int))\n",
    "plt.axvline(1 / minimum_frequency/ 3600 / 24, color=\"green\", alpha=0.5, ls=\"--\")\n",
    "plt.axvline(1 / maximum_frequency / 3600 / 24, alpha=0.5, color=\"blue\")\n",
    "plt.xscale(\"log\")\n",
    "plt.yscale(\"log\")\n",
    "plt.xlabel(\"Period (d)\")"
   ]
  },
  {
   "cell_type": "markdown",
   "id": "1fa67f23",
   "metadata": {},
   "source": [
    "fit with celerite"
   ]
  },
  {
   "cell_type": "code",
   "execution_count": 7,
   "id": "9fc05061",
   "metadata": {},
   "outputs": [
    {
     "name": "stdout",
     "output_type": "stream",
     "text": [
      "  message: CONVERGENCE: REL_REDUCTION_OF_F_<=_FACTR*EPSMCH\n",
      "  success: True\n",
      "   status: 0\n",
      "      fun: 2953903.8428204195\n",
      "        x: [ 2.000e+00]\n",
      "      nit: 6\n",
      "      jac: [ 3.982e+02]\n",
      "     nfev: 48\n",
      "     njev: 24\n",
      " hess_inv: <1x1 LbfgsInvHessProduct with dtype=float64>\n"
     ]
    }
   ],
   "source": [
    "y = lc.countrate\n",
    "time = lc.time\n",
    "S0 = np.var(y)\n",
    "nwalkers = 12\n",
    "kernel = JitterTerm(log_sigma=np.log(3))\n",
    "\n",
    "gp = celerite.GP(kernel, mean=np.mean(y))\n",
    "gp.compute(time)  # You always need to call compute once.\n",
    "initial_params = gp.get_parameter_vector()\n",
    "bounds = gp.get_parameter_bounds()\n",
    "solution = minimize(neg_log_like, \n",
    "                    initial_params, method=\"L-BFGS-B\", bounds=gp.get_parameter_bounds(), args=(y, gp))\n",
    "print(solution)"
   ]
  },
  {
   "cell_type": "code",
   "execution_count": 8,
   "id": "343ee277",
   "metadata": {},
   "outputs": [
    {
     "name": "stdout",
     "output_type": "stream",
     "text": [
      "('kernel:log_sigma', 'mean:value')\n",
      "[1.99977915]\n",
      "Ratio ampltiudes\n",
      "0.9997791699383904\n"
     ]
    },
    {
     "name": "stderr",
     "output_type": "stream",
     "text": [
      "/tmp/ipykernel_547012/1536900954.py:10: UserWarning: Data has no positive values, and therefore cannot be log-scaled.\n",
      "  plt.yscale(\"log\")\n",
      "/home/andresgur/anaconda3/lib/python3.9/site-packages/matplotlib_inline/backend_inline.py:234: UserWarning: Data has no positive values, and therefore cannot be log-scaled.\n",
      "  for label in axis.get_ticklabels()])\n"
     ]
    },
    {
     "data": {
      "image/png": "[encoded data removed]",
      "text/plain": [
       "<Figure size 432x288 with 1 Axes>"
      ]
     },
     "metadata": {
      "needs_background": "light"
     },
     "output_type": "display_data"
    }
   ],
   "source": [
    "print(gp.parameter_names)\n",
    "print(solution.x)\n",
    "df = 1 / (lc.tseg)\n",
    "fnyq = 1 / (2 * lc.dt)\n",
    "frequencies = np.arange(df, fnyq, df)\n",
    "w = frequencies * 2 * np.pi\n",
    "gp.set_parameter_vector(solution.x)\n",
    "psd = gp.kernel.get_psd(w)\n",
    "plt.plot(frequencies, psd, label=\"Fit model\")\n",
    "plt.yscale(\"log\")\n",
    "plt.xscale(\"log\")\n",
    "\n",
    "gp.set_parameter_vector((logS0))\n",
    "psd = gp.kernel.get_psd(w)\n",
    "plt.plot(frequencies, psd, label=\"Input model\")\n",
    "plt.legend()\n",
    "print(\"Ratio ampltiudes\")\n",
    "print(np.exp(solution.x)[0] / np.exp(logS0))"
   ]
  },
  {
   "cell_type": "markdown",
   "id": "efd844d3",
   "metadata": {},
   "source": [
    "# Generate lightcurves with different lengths --> dispersion on the variance should go up"
   ]
  },
  {
   "cell_type": "code",
   "execution_count": null,
   "id": "f55365c2",
   "metadata": {},
   "outputs": [],
   "source": [
    "np.random.seed(42)\n",
    "\n",
    "n = 50 # simulations to perform per sampling\n",
    "#### Model ###\n",
    "logS0 = 0\n",
    "S0 = np.exp(logS0)\n",
    "logw0 = -13\n",
    "w0 = np.exp(logw0)\n",
    "break_timescale = 1 / (w0 / 2 / np.pi) / 3600 / 24 \n",
    "print(\"Break timescale: %.2f d\" % break_timescale)\n",
    "psd_model = BPL(S_0=S0, w_0=np.exp(-13))\n",
    "\n",
    "### Lightcurve N = 1000 ###\n",
    "Npoints = 1000\n",
    "length = 1000\n",
    "times = np.linspace(0, length, Npoints) * 3600 * 24 # seconds\n",
    "exposures = 1000 * np.ones(Npoints) # seconds\n",
    "duration = times[-1] + 1.5 * exposures[-1] - (times[0] - exposures[0])\n",
    "sim_dt = 1 / 10 * np.min(exposures)\n",
    "print(\"Lightcurve duration: %.2f d\" % (duration / 3600 /24))\n",
    "\n",
    "minimum_frequency = 1 / (duration)\n",
    "maximum_frequency = 1 / (sim_dt)\n",
    "fnyq = maximum_frequency\n",
    "extension_factor = 5\n",
    "df_int = 1 / (duration * extension_factor)\n",
    "int_freq = np.arange(minimum_frequency, fnyq, df_int) # frequencies over which to integrate\n",
    "w_int = int_freq * 2 * np.pi\n",
    "normalization_factor =  2 / np.sqrt(2 * np.pi) # this factor accounts for the fact that we only integrate positive frequencies and the 1 / sqrt(2pi) from the Fourier transform\n",
    "var = np.sum(psd_model(w_int)) * df_int * 2 * np.pi * normalization_factor\n",
    "print(\"Integrated variance: %.5f\" % var)\n",
    "\n",
    "variances = []\n",
    "for i in range(n): \n",
    "    lc = simulate_lightcurve(times, psd_model,\n",
    "                        dt=sim_dt, \n",
    "                         extension_factor=extension_factor)\n",
    "\n",
    "    segment = cut_random_segment(lc, duration)\n",
    "    variances.append(np.var(segment.countrate))\n",
    "print(\"Dispersion for %d length: %.3f\" % (length, np.std(variances)))\n",
    "# plot results\n",
    "plt.hist(variances, label=\"L = %d\" % (length), facecolor=\"None\", edgecolor=\"C0\")\n",
    "### Lightcurve N = 1000 ###\n",
    "length=100\n",
    "times = np.linspace(0, length, Npoints) * 3600 * 24 # seconds\n",
    "exposures = 1000 * np.ones(Npoints) # seconds\n",
    "duration = times[-1] + 1.5 * exposures[-1] - (times[0] - exposures[0])\n",
    "sim_dt = 1 / 10 * np.min(exposures)\n",
    "print(\"Lightcurve duration: %.2f d\" % (duration / 3600 /24))    \n",
    "\n",
    "minimum_frequency = 1 / (duration)\n",
    "\n",
    "df_int = 1 / (duration * extension_factor)\n",
    "int_freq = np.arange(minimum_frequency, fnyq, df_int) # frequencies over which to integrate\n",
    "w_int = int_freq * 2 * np.pi\n",
    "normalization_factor =  2 / np.sqrt(2 * np.pi) # this factor accounts for the fact that we only integrate positive frequencies and the 1 / sqrt(2pi) from the Fourier transform\n",
    "var = np.sum(psd_model(w_int)) * df_int * 2 * np.pi * normalization_factor\n",
    "print(\"Integrated variance: %.5f\" % var)\n",
    "\n",
    "variances = []\n",
    "for i in range(n): \n",
    "    lc = simulate_lightcurve(times, psd_model,\n",
    "                        dt=sim_dt, \n",
    "                         extension_factor=extension_factor)\n",
    "\n",
    "    segment = cut_random_segment(lc, duration)\n",
    "    variances.append(np.var(segment.countrate))\n",
    "plt.hist(variances, label=\"L = %d\" % (length), facecolor=\"None\", edgecolor=\"C1\")\n",
    "print(\"Dispersion for %d length: %.3f\" % (length, np.std(variances)))\n",
    "plt.legend()\n",
    "plt.xlabel(\"$\\sigma^2$ (ct/s)$^2$\")"
   ]
  },
  {
   "cell_type": "code",
   "execution_count": null,
   "id": "41bf14e8",
   "metadata": {},
   "outputs": [],
   "source": [
    "%matplotlib inline\n",
    "Npoints = 1000\n",
    "times = np.linspace(0, 1000, Npoints) * 3600 * 24 # seconds\n",
    "exposures = 1000 * np.ones(Npoints) # seconds\n",
    "duration = times[-1] + 1.5 * exposures[-1] - (times[0] - exposures[0])\n",
    "print(\"Lightcurve duration: %.2f d\" % (duration / 3600 /24))\n",
    "sim_dt = 1 / 10 * np.min(exposures)\n",
    "\n",
    "logS0 = 0\n",
    "S0 = np.exp(logS0)\n",
    "logw0 = -13\n",
    "w0 = np.exp(logw0)\n",
    "logQ = np.log(1000)\n",
    "Q = np.exp(logQ)\n",
    "break_timescale = 1 / (w0 / 2 / np.pi) / 3600 / 24 \n",
    "print(\"Period: %.2f d\" % break_timescale)\n",
    "print(\"log_Q: %.3f\" % (logQ))\n",
    "psd_model = Lor(S_0=S0, w_0=w0, Q=Q)\n",
    "minimum_frequency = 1 / (duration)\n",
    "maximum_frequency = 1 / (sim_dt)\n",
    "fnyq = maximum_frequency\n",
    "\n",
    "extension_factor = 10\n",
    "df_int = 1 / (duration * extension_factor)\n",
    "int_freq = np.arange(minimum_frequency, fnyq, df_int) # frequencies over which to integrate\n",
    "w_int = int_freq * 2 * np.pi\n",
    "normalization_factor =  2 / np.sqrt(2 * np.pi) # this factor accounts for the fact that we only integrate positive frequencies and the 1 / sqrt(2pi) from the Fourier transform\n",
    "var = np.sum(psd_model(w_int)) * df_int * 2 * np.pi * normalization_factor\n",
    "\n",
    "n = 50\n",
    "variances = []\n",
    "for i in range(n):\n",
    "    lc = simulate_lightcurve(times, psd_model,\n",
    "                            dt=sim_dt, \n",
    "                             extension_factor=extension_factor)\n",
    "\n",
    "    segment = cut_random_segment(lc, duration)\n",
    "    variances.append(np.var(segment.countrate))\n",
    "\n",
    "plt.figure()\n",
    "plt.hist(variances)\n",
    "plt.axvline(np.mean(variances))\n",
    "plt.xlabel(\"$\\sigma^2\")\n",
    "print(\"Dispersion in variance: %.2f\" % np.std(variances))\n",
    "print(\"Mean variance: %.2f\" % np.mean(variances))"
   ]
  },
  {
   "cell_type": "markdown",
   "id": "f4e91fd6",
   "metadata": {},
   "source": [
    "# Simulate from solution"
   ]
  },
  {
   "cell_type": "code",
   "execution_count": null,
   "id": "9251b55e",
   "metadata": {},
   "outputs": [],
   "source": [
    "duration = (times + 1.5 * exposures[-1] - (times[0] - exposures[0]))\n",
    "\n",
    "sim_dt = 1 / 10 * np.min(exposures)\n",
    "mean = np.mean(y)\n",
    "std = np.std(y)\n",
    "Q = 1 / 2\n",
    "psd_model = BPL(S_0=np.exp(logS0), w_0=np.exp(logw0), Q=Q)\n",
    "extension_factor = 20\n",
    "lc = simulate_lightcurve(times, psd_model,\n",
    "                        dt=sim_dt, \n",
    "                         extension_factor=extension_factor) # this is just to get tseg for df\n",
    "plt.plot(lc.time, lc.countrate)\n",
    "plt.gca().ticklabel_format(useOffset=False)"
   ]
  },
  {
   "cell_type": "code",
   "execution_count": null,
   "id": "5b63835e",
   "metadata": {},
   "outputs": [],
   "source": [
    "print(\"Generated variance: %.2f\" % np.var(lc.countrate))"
   ]
  },
  {
   "cell_type": "code",
   "execution_count": null,
   "id": "c000baf7",
   "metadata": {},
   "outputs": [],
   "source": [
    "psd_model = BPL(S_0=np.exp(logS0) * lc.dt * lc.n / 2, w_0=np.exp(logw0), Q=Q)\n",
    "lc = simulate_lightcurve(timestamps.to(u.s).value, psd_model,\n",
    "                        dt=sim_dt.to(u.s).value, \n",
    "                         extension_factor=extension_factor) # this is just to get tseg for df\n",
    "plt.plot(lc.time, lc.countrate)\n",
    "print(np.var(lc.countrate))"
   ]
  },
  {
   "cell_type": "code",
   "execution_count": null,
   "id": "3ea0e456",
   "metadata": {},
   "outputs": [],
   "source": [
    "y = lc.countrate\n",
    "time = lc.time\n",
    "Q = 1/ 2\n",
    "w0 = 2 * np.pi / (10 * u.d).to(u.s).value\n",
    "S0 = np.var(y) / (w0 * Q)\n",
    "S_0_N_bounds = (-20, 5)\n",
    "log_omega0_N_bounds = (-20, -5)  # 0 to 200 in period (days)\n",
    "nwalkers = 12\n",
    "bounds = dict(log_S0=S_0_N_bounds, log_omega0=log_omega0_N_bounds)\n",
    "kernel = BPL_celerite(log_S0=np.log(S0), log_Q=np.log(Q), log_omega0=np.log(w0),\n",
    "                                 bounds=bounds)\n",
    "kernel.freeze_parameter(\"log_Q\")\n",
    "initial_samples = np.array([np.random.uniform(S_0_N_bounds[0], S_0_N_bounds[1], nwalkers),\n",
    "                           np.random.uniform(log_omega0_N_bounds[0], log_omega0_N_bounds[1], nwalkers)])\n",
    "cols = [\"kernel:log_S0\", \"kernel:log_omega0\"]\n",
    "labels = [r\"log $S_N$\", r\"log $\\omega_N$\"]\n",
    "initial_samples = initial_samples.T"
   ]
  },
  {
   "cell_type": "code",
   "execution_count": null,
   "id": "830380b5",
   "metadata": {},
   "outputs": [],
   "source": [
    "gp = celerite.GP(kernel, mean=np.mean(y))\n",
    "gp.compute(time)  # You always need to call compute once.\n",
    "initial_params = gp.get_parameter_vector()\n",
    "par_names = list(gp.get_parameter_names())\n",
    "bounds = gp.get_parameter_bounds()\n",
    "solution = minimize(neg_log_like, \n",
    "                    initial_params, method=\"L-BFGS-B\", bounds=gp.get_parameter_bounds(), args=(y, gp))"
   ]
  },
  {
   "cell_type": "code",
   "execution_count": null,
   "id": "13abafd3",
   "metadata": {},
   "outputs": [],
   "source": [
    "print(solution.x)\n",
    "df = 1 / (lc.tseg)\n",
    "fnyq = 1 / (2 * lc.dt)\n",
    "frequencies = np.arange(df, fnyq, df)\n",
    "w = frequencies * 2 * np.pi"
   ]
  },
  {
   "cell_type": "code",
   "execution_count": null,
   "id": "672ce7c7",
   "metadata": {},
   "outputs": [],
   "source": [
    "print(gp.parameter_names)\n",
    "gp.set_parameter_vector(solution.x)\n",
    "psd = gp.kernel.get_psd(w)\n",
    "plt.plot(frequencies, psd, label=\"Fit model\")\n",
    "plt.yscale(\"log\")\n",
    "plt.xscale(\"log\")\n",
    "\n",
    "gp.set_parameter_vector((logS0, logw0))\n",
    "psd = gp.kernel.get_psd(w)\n",
    "plt.plot(frequencies, psd, label=\"Input model\")\n",
    "plt.legend()\n",
    "print(\"Ratio ampltiudes\")\n",
    "print(np.exp(solution.x)[0] / np.exp(logS0))\n",
    "print(\"Ratio breaks\")\n",
    "print(np.exp(solution.x)[1] / np.exp(logw0))"
   ]
  },
  {
   "cell_type": "markdown",
   "id": "3d902f5a",
   "metadata": {},
   "source": [
    "# Bowman et al 2020 gives the std of the SHO"
   ]
  },
  {
   "cell_type": "code",
   "execution_count": null,
   "id": "619fca0d",
   "metadata": {},
   "outputs": [],
   "source": [
    "from mind_the_gaps.lightcurves.stingray import PatchedLightcurve as Lightcurve\n",
    "import numexpr as ne\n",
    "import pyfftw\n",
    "from astropy.stats import poisson_conf_interval\n",
    "\n",
    "def simulate_lightcurve_(timestamps, psd_model, dt, extension_factor=50):\n",
    "    \"\"\"Simulate a lightcurve regularly sampled N times longer than original using the algorithm of Timmer & Koenig+95\n",
    "\n",
    "    Parameters\n",
    "    ----------\n",
    "    timestamps: array\n",
    "        Timestamps, same units as dt\n",
    "    psd_model: astropy.model\n",
    "        The model for the PSD. Has to take angular frequencies\n",
    "    dt: float\n",
    "        Binning to which simulate the lightcurve in seconds\n",
    "    extension_factor: int\n",
    "        How many times longer than original\n",
    "    \"\"\"\n",
    "    if exddtension_factor < 1:\n",
    "        raise ValueError(\"Extension factor needs to be higher than 1\")\n",
    "\n",
    "    duration = timestamps[-1] - timestamps[0]\n",
    "    # generate timesctamps sampled at the median exposure longer than input lightcurve by extending the end\n",
    "    sim_timestamps = np.arange(timestamps[0] - 2 * dt,\n",
    "                               timestamps[0] + duration * extension_factor + dt,\n",
    "                               dt)\n",
    "\n",
    "    n_datapoints = len(sim_timestamps)\n",
    "\n",
    "    complex_fft = get_fft(n_datapoints, dt, psd_model)\n",
    "\n",
    "    countrate = pyfftw.interfaces.numpy_fft.irfft(complex_fft, n=n_datapoints) # it does seem faster than numpy although only slightly\n",
    "    \n",
    "    countrate *= np.sqrt(n_datapoints) * np.sqrt(dt) * np.sqrt(np.sqrt(2 * np.pi))\n",
    "    \n",
    "    return Lightcurve(sim_timestamps, countrate, input_counts=True, skip_checks=True, dt=dt, err_dist=\"gauss\")"
   ]
  },
  {
   "cell_type": "code",
   "execution_count": null,
   "id": "89b3f09d",
   "metadata": {},
   "outputs": [],
   "source": [
    "data = readPCCURVE('%s/xray_data/%s/lc/PCCURVE.qdp' % (home, ulx_dir),\n",
    "                   minSNR=0)\n",
    "\n",
    "time_column = data.dtype.names[0]\n",
    "filtered_data = data[np.where((data[\"%s\" % time_column] >= tmin) &\n",
    "                              (data[\"%s\" % time_column] <= tend))]\n",
    "exposure_column = data.dtype.names[12]\n",
    "\n",
    "timestamps = filtered_data[time_column]\n",
    "if time_column == 'MJD':\n",
    "            units = u.d\n",
    "else:\n",
    "    units = u.s\n",
    "timestamps = filtered_data[time_column] * units\n",
    "rate_column = data.dtype.names[3]\n",
    "corr_factor = data.dtype.names[9]\n",
    "bkg_counts_column = data.dtype.names[11]\n",
    "y_units = u.ct / u.s\n",
    "rate = filtered_data[rate_column] * y_units\n",
    "errors = (-filtered_data[\"%sneg\" % rate_column] +\n",
    "          filtered_data[\"%spos\" % rate_column]) / 2 * y_units\n",
    "corr_factor = filtered_data[corr_factor]\n",
    "exposures = filtered_data[exposure_column] * u.s / corr_factor\n",
    "bkg_counts = filtered_data[bkg_counts_column] << u.ct\n",
    "half_bins = exposures / 2\n",
    "duration = (timestamps[-1] + 1.5 * exposures[-1] - (timestamps[0] - exposures[0])).to(u.s).value\n",
    "\n",
    "sim_dt = 1 / 2 * np.min(exposures)\n",
    "logS0 = 3\n",
    "bend = 60 * 3600 * 24 # 55 days to seconds\n",
    "logw0 = np.log(2 * np.pi / bend) # rad/s\n",
    "Q = 1 / 2\n",
    "psd_model = BPL(S_0=np.exp(logS0), w_0=np.exp(logw0))\n",
    "extension_factor = 15\n",
    "lc = simulate_lightcurve_(timestamps.to(u.s).value, psd_model,\n",
    "                        dt=sim_dt.to(u.s).value, \n",
    "                         extension_factor=extension_factor) # this is just to get tseg for df\n",
    "plt.plot(lc.time, lc.countrate)\n",
    "print(\"Lightcurve duration: %.2f days\" %(lc.tseg / 3600 / 24))"
   ]
  },
  {
   "cell_type": "code",
   "execution_count": null,
   "id": "52e86096",
   "metadata": {},
   "outputs": [],
   "source": [
    "#variance = psd_model.S_0 * psd_model.w_0 / np.sqrt(2)\n",
    "variance = psd_model.S_0.value\n",
    "print(\"Theoretical variance: %.8f\"  % variance)\n",
    "#var_factor = 1 / lc.dt**2\n",
    "#var_factor = lc.n * (lc.dt)\n",
    "var_factor = lc.n * lc.dt\n",
    "var_factor = 1\n",
    "factor = np.sqrt(2 * np.pi)\n",
    "factor = 1\n",
    "print(\"Lightcurve variance: %.8f\" % (np.var(lc.countrate) * var_factor * factor))\n",
    "df = 1 / (lc.tseg)\n",
    "fnyq = 1 / (2 * lc.dt)\n",
    "frequencies = np.arange(df, fnyq, df)\n",
    "w_int = frequencies * 2 * np.pi\n",
    "factor = 4 / np.sqrt(2 / np.pi)\n",
    "factor = 2 * np.sqrt(2 * np.pi)\n",
    "factor = 2 / np.sqrt(2 * np.pi)\n",
    "integrated_variance = np.sum(psd_model(w_int) * df) * factor * 2 * np.pi   # * factor  * 2 * np.pi  \n",
    "print(\"Integrated variance: %.8f\" % integrated_variance)"
   ]
  },
  {
   "cell_type": "markdown",
   "id": "f8d1e5ee",
   "metadata": {},
   "source": [
    "# Fit data with celerite"
   ]
  },
  {
   "cell_type": "code",
   "execution_count": null,
   "id": "e6b8e95d",
   "metadata": {},
   "outputs": [],
   "source": [
    "y = lc.countrate\n",
    "time = lc.time\n",
    "\n",
    "S_0_N_bounds = (logS0 - 5, logS0 + 5)\n",
    "log_omega0_N_bounds = (logw0-5, logw0+5)  # 0 to 200 in period (days)\n",
    "nwalkers = 12\n",
    "bounds = dict(log_S0=S_0_N_bounds, log_omega0=log_omega0_N_bounds)\n",
    "kernel = DRW(log_S0=logS0, log_omega0=logw0,\n",
    "                                 bounds=bounds)\n",
    "initial_samples = np.array([np.random.uniform(S_0_N_bounds[0], S_0_N_bounds[1], nwalkers),\n",
    "                           np.random.uniform(log_omega0_N_bounds[0], log_omega0_N_bounds[1], nwalkers)])\n",
    "cols = [\"kernel:log_S0\", \"kernel:log_omega0\"]\n",
    "labels = [r\"log $S_N$\", r\"log $\\omega_N$\"]\n",
    "initial_samples = initial_samples.T\n",
    "gp = celerite.GP(kernel, mean=np.mean(y))\n",
    "gp.compute(time)  # You always need to call compute once.\n",
    "initial_params = gp.get_parameter_vector()\n",
    "par_names = list(gp.get_parameter_names())\n",
    "bounds = gp.get_parameter_bounds()\n",
    "solution = minimize(neg_log_like, \n",
    "                    initial_params, method=\"L-BFGS-B\", \n",
    "                    bounds=gp.get_parameter_bounds(), \n",
    "                    args=(y, gp))\n",
    "print(solution.x)\n",
    "power = gp.kernel.get_psd(1 / lc.time * 2 * np.pi)\n",
    "plt.plot(1 / time, power, color=\"blue\")\n",
    "plt.plot(1/time, psd_model(1 / lc.time * 2 * np.pi), label=\"Input\")\n",
    "plt.axvline(1 / bend, ls=\"--\", color=\"black\")\n",
    "plt.axvline(np.exp(solution.x[1]) / 2 / np.pi, ls=\"solid\", color=\"blue\", label=\"Found\")\n",
    "plt.xscale(\"log\")\n",
    "plt.yscale(\"log\")\n",
    "plt.legend()"
   ]
  },
  {
   "cell_type": "code",
   "execution_count": null,
   "id": "2b58f563",
   "metadata": {},
   "outputs": [],
   "source": [
    "power = gp.kernel.get_psd(1 / lc.time * 2 * np.pi)\n",
    "plt.plot(1 / lc.time, power, color=\"blue\")\n",
    "plt.axvline(np.exp(solution.x[1]) / 2 / np.pi, ls=\"solid\", color=\"blue\", label=\"Found\")\n",
    "plt.xscale(\"log\")\n",
    "plt.yscale(\"log\")\n",
    "plt.legend()"
   ]
  }
 ],
 "metadata": {
  "kernelspec": {
   "display_name": "Python 3 (ipykernel)",
   "language": "python",
   "name": "python3"
  },
  "language_info": {
   "codemirror_mode": {
    "name": "ipython",
    "version": 3
   },
   "file_extension": ".py",
   "mimetype": "text/x-python",
   "name": "python",
   "nbconvert_exporter": "python",
   "pygments_lexer": "ipython3",
   "version": "3.9.7"
  }
 },
 "nbformat": 4,
 "nbformat_minor": 5
}
